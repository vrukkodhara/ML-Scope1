{
 "cells": [
  {
   "cell_type": "markdown",
   "id": "309eea2d",
   "metadata": {},
   "source": [
    "## Importing Libraries"
   ]
  },
  {
   "cell_type": "code",
   "execution_count": 1,
   "id": "8ccf293a",
   "metadata": {},
   "outputs": [],
   "source": [
    "import numpy as np\n",
    "import pandas as pd\n",
    "import matplotlib.pyplot as plt"
   ]
  },
  {
   "cell_type": "markdown",
   "id": "6349a0ca",
   "metadata": {},
   "source": [
    "## Reading Dataset"
   ]
  },
  {
   "cell_type": "code",
   "execution_count": 2,
   "id": "2fe87ee0",
   "metadata": {},
   "outputs": [
    {
     "data": {
      "text/html": [
       "<div>\n",
       "<style scoped>\n",
       "    .dataframe tbody tr th:only-of-type {\n",
       "        vertical-align: middle;\n",
       "    }\n",
       "\n",
       "    .dataframe tbody tr th {\n",
       "        vertical-align: top;\n",
       "    }\n",
       "\n",
       "    .dataframe thead th {\n",
       "        text-align: right;\n",
       "    }\n",
       "</style>\n",
       "<table border=\"1\" class=\"dataframe\">\n",
       "  <thead>\n",
       "    <tr style=\"text-align: right;\">\n",
       "      <th></th>\n",
       "      <th>fixed acidity</th>\n",
       "      <th>volatile acidity</th>\n",
       "      <th>citric acid</th>\n",
       "      <th>residual sugar</th>\n",
       "      <th>chlorides</th>\n",
       "      <th>free sulfur dioxide</th>\n",
       "      <th>total sulfur dioxide</th>\n",
       "      <th>density</th>\n",
       "      <th>pH</th>\n",
       "      <th>sulphates</th>\n",
       "      <th>alcohol</th>\n",
       "      <th>quality</th>\n",
       "    </tr>\n",
       "  </thead>\n",
       "  <tbody>\n",
       "    <tr>\n",
       "      <th>0</th>\n",
       "      <td>7.4</td>\n",
       "      <td>0.700</td>\n",
       "      <td>0.00</td>\n",
       "      <td>1.9</td>\n",
       "      <td>0.076</td>\n",
       "      <td>11.0</td>\n",
       "      <td>34.0</td>\n",
       "      <td>0.99780</td>\n",
       "      <td>3.51</td>\n",
       "      <td>0.56</td>\n",
       "      <td>9.4</td>\n",
       "      <td>5</td>\n",
       "    </tr>\n",
       "    <tr>\n",
       "      <th>1</th>\n",
       "      <td>7.8</td>\n",
       "      <td>0.880</td>\n",
       "      <td>0.00</td>\n",
       "      <td>2.6</td>\n",
       "      <td>0.098</td>\n",
       "      <td>25.0</td>\n",
       "      <td>67.0</td>\n",
       "      <td>0.99680</td>\n",
       "      <td>3.20</td>\n",
       "      <td>0.68</td>\n",
       "      <td>9.8</td>\n",
       "      <td>5</td>\n",
       "    </tr>\n",
       "    <tr>\n",
       "      <th>2</th>\n",
       "      <td>7.8</td>\n",
       "      <td>0.760</td>\n",
       "      <td>0.04</td>\n",
       "      <td>2.3</td>\n",
       "      <td>0.092</td>\n",
       "      <td>15.0</td>\n",
       "      <td>54.0</td>\n",
       "      <td>0.99700</td>\n",
       "      <td>3.26</td>\n",
       "      <td>0.65</td>\n",
       "      <td>9.8</td>\n",
       "      <td>5</td>\n",
       "    </tr>\n",
       "    <tr>\n",
       "      <th>3</th>\n",
       "      <td>11.2</td>\n",
       "      <td>0.280</td>\n",
       "      <td>0.56</td>\n",
       "      <td>1.9</td>\n",
       "      <td>0.075</td>\n",
       "      <td>17.0</td>\n",
       "      <td>60.0</td>\n",
       "      <td>0.99800</td>\n",
       "      <td>3.16</td>\n",
       "      <td>0.58</td>\n",
       "      <td>9.8</td>\n",
       "      <td>6</td>\n",
       "    </tr>\n",
       "    <tr>\n",
       "      <th>4</th>\n",
       "      <td>7.4</td>\n",
       "      <td>0.700</td>\n",
       "      <td>0.00</td>\n",
       "      <td>1.9</td>\n",
       "      <td>0.076</td>\n",
       "      <td>11.0</td>\n",
       "      <td>34.0</td>\n",
       "      <td>0.99780</td>\n",
       "      <td>3.51</td>\n",
       "      <td>0.56</td>\n",
       "      <td>9.4</td>\n",
       "      <td>5</td>\n",
       "    </tr>\n",
       "    <tr>\n",
       "      <th>...</th>\n",
       "      <td>...</td>\n",
       "      <td>...</td>\n",
       "      <td>...</td>\n",
       "      <td>...</td>\n",
       "      <td>...</td>\n",
       "      <td>...</td>\n",
       "      <td>...</td>\n",
       "      <td>...</td>\n",
       "      <td>...</td>\n",
       "      <td>...</td>\n",
       "      <td>...</td>\n",
       "      <td>...</td>\n",
       "    </tr>\n",
       "    <tr>\n",
       "      <th>1594</th>\n",
       "      <td>6.2</td>\n",
       "      <td>0.600</td>\n",
       "      <td>0.08</td>\n",
       "      <td>2.0</td>\n",
       "      <td>0.090</td>\n",
       "      <td>32.0</td>\n",
       "      <td>44.0</td>\n",
       "      <td>0.99490</td>\n",
       "      <td>3.45</td>\n",
       "      <td>0.58</td>\n",
       "      <td>10.5</td>\n",
       "      <td>5</td>\n",
       "    </tr>\n",
       "    <tr>\n",
       "      <th>1595</th>\n",
       "      <td>5.9</td>\n",
       "      <td>0.550</td>\n",
       "      <td>0.10</td>\n",
       "      <td>2.2</td>\n",
       "      <td>0.062</td>\n",
       "      <td>39.0</td>\n",
       "      <td>51.0</td>\n",
       "      <td>0.99512</td>\n",
       "      <td>3.52</td>\n",
       "      <td>0.76</td>\n",
       "      <td>11.2</td>\n",
       "      <td>6</td>\n",
       "    </tr>\n",
       "    <tr>\n",
       "      <th>1596</th>\n",
       "      <td>6.3</td>\n",
       "      <td>0.510</td>\n",
       "      <td>0.13</td>\n",
       "      <td>2.3</td>\n",
       "      <td>0.076</td>\n",
       "      <td>29.0</td>\n",
       "      <td>40.0</td>\n",
       "      <td>0.99574</td>\n",
       "      <td>3.42</td>\n",
       "      <td>0.75</td>\n",
       "      <td>11.0</td>\n",
       "      <td>6</td>\n",
       "    </tr>\n",
       "    <tr>\n",
       "      <th>1597</th>\n",
       "      <td>5.9</td>\n",
       "      <td>0.645</td>\n",
       "      <td>0.12</td>\n",
       "      <td>2.0</td>\n",
       "      <td>0.075</td>\n",
       "      <td>32.0</td>\n",
       "      <td>44.0</td>\n",
       "      <td>0.99547</td>\n",
       "      <td>3.57</td>\n",
       "      <td>0.71</td>\n",
       "      <td>10.2</td>\n",
       "      <td>5</td>\n",
       "    </tr>\n",
       "    <tr>\n",
       "      <th>1598</th>\n",
       "      <td>6.0</td>\n",
       "      <td>0.310</td>\n",
       "      <td>0.47</td>\n",
       "      <td>3.6</td>\n",
       "      <td>0.067</td>\n",
       "      <td>18.0</td>\n",
       "      <td>42.0</td>\n",
       "      <td>0.99549</td>\n",
       "      <td>3.39</td>\n",
       "      <td>0.66</td>\n",
       "      <td>11.0</td>\n",
       "      <td>6</td>\n",
       "    </tr>\n",
       "  </tbody>\n",
       "</table>\n",
       "<p>1599 rows × 12 columns</p>\n",
       "</div>"
      ],
      "text/plain": [
       "      fixed acidity  volatile acidity  citric acid  residual sugar  chlorides  \\\n",
       "0               7.4             0.700         0.00             1.9      0.076   \n",
       "1               7.8             0.880         0.00             2.6      0.098   \n",
       "2               7.8             0.760         0.04             2.3      0.092   \n",
       "3              11.2             0.280         0.56             1.9      0.075   \n",
       "4               7.4             0.700         0.00             1.9      0.076   \n",
       "...             ...               ...          ...             ...        ...   \n",
       "1594            6.2             0.600         0.08             2.0      0.090   \n",
       "1595            5.9             0.550         0.10             2.2      0.062   \n",
       "1596            6.3             0.510         0.13             2.3      0.076   \n",
       "1597            5.9             0.645         0.12             2.0      0.075   \n",
       "1598            6.0             0.310         0.47             3.6      0.067   \n",
       "\n",
       "      free sulfur dioxide  total sulfur dioxide  density    pH  sulphates  \\\n",
       "0                    11.0                  34.0  0.99780  3.51       0.56   \n",
       "1                    25.0                  67.0  0.99680  3.20       0.68   \n",
       "2                    15.0                  54.0  0.99700  3.26       0.65   \n",
       "3                    17.0                  60.0  0.99800  3.16       0.58   \n",
       "4                    11.0                  34.0  0.99780  3.51       0.56   \n",
       "...                   ...                   ...      ...   ...        ...   \n",
       "1594                 32.0                  44.0  0.99490  3.45       0.58   \n",
       "1595                 39.0                  51.0  0.99512  3.52       0.76   \n",
       "1596                 29.0                  40.0  0.99574  3.42       0.75   \n",
       "1597                 32.0                  44.0  0.99547  3.57       0.71   \n",
       "1598                 18.0                  42.0  0.99549  3.39       0.66   \n",
       "\n",
       "      alcohol  quality  \n",
       "0         9.4        5  \n",
       "1         9.8        5  \n",
       "2         9.8        5  \n",
       "3         9.8        6  \n",
       "4         9.4        5  \n",
       "...       ...      ...  \n",
       "1594     10.5        5  \n",
       "1595     11.2        6  \n",
       "1596     11.0        6  \n",
       "1597     10.2        5  \n",
       "1598     11.0        6  \n",
       "\n",
       "[1599 rows x 12 columns]"
      ]
     },
     "execution_count": 2,
     "metadata": {},
     "output_type": "execute_result"
    }
   ],
   "source": [
    "df = pd.read_csv(\"C:\\\\Users\\\\Nagasai\\\\Downloads\\\\winequality-red.csv\")\n",
    "df"
   ]
  },
  {
   "cell_type": "code",
   "execution_count": 3,
   "id": "8c54a0f2",
   "metadata": {},
   "outputs": [
    {
     "data": {
      "text/html": [
       "<div>\n",
       "<style scoped>\n",
       "    .dataframe tbody tr th:only-of-type {\n",
       "        vertical-align: middle;\n",
       "    }\n",
       "\n",
       "    .dataframe tbody tr th {\n",
       "        vertical-align: top;\n",
       "    }\n",
       "\n",
       "    .dataframe thead th {\n",
       "        text-align: right;\n",
       "    }\n",
       "</style>\n",
       "<table border=\"1\" class=\"dataframe\">\n",
       "  <thead>\n",
       "    <tr style=\"text-align: right;\">\n",
       "      <th></th>\n",
       "      <th>fixed acidity</th>\n",
       "      <th>volatile acidity</th>\n",
       "      <th>citric acid</th>\n",
       "      <th>residual sugar</th>\n",
       "      <th>chlorides</th>\n",
       "      <th>free sulfur dioxide</th>\n",
       "      <th>total sulfur dioxide</th>\n",
       "      <th>density</th>\n",
       "      <th>pH</th>\n",
       "      <th>sulphates</th>\n",
       "      <th>alcohol</th>\n",
       "      <th>quality</th>\n",
       "    </tr>\n",
       "  </thead>\n",
       "  <tbody>\n",
       "    <tr>\n",
       "      <th>count</th>\n",
       "      <td>1599.000000</td>\n",
       "      <td>1599.000000</td>\n",
       "      <td>1599.000000</td>\n",
       "      <td>1599.000000</td>\n",
       "      <td>1599.000000</td>\n",
       "      <td>1599.000000</td>\n",
       "      <td>1599.000000</td>\n",
       "      <td>1599.000000</td>\n",
       "      <td>1599.000000</td>\n",
       "      <td>1599.000000</td>\n",
       "      <td>1599.000000</td>\n",
       "      <td>1599.000000</td>\n",
       "    </tr>\n",
       "    <tr>\n",
       "      <th>mean</th>\n",
       "      <td>8.319637</td>\n",
       "      <td>0.527821</td>\n",
       "      <td>0.270976</td>\n",
       "      <td>2.538806</td>\n",
       "      <td>0.087467</td>\n",
       "      <td>15.874922</td>\n",
       "      <td>46.467792</td>\n",
       "      <td>0.996747</td>\n",
       "      <td>3.311113</td>\n",
       "      <td>0.658149</td>\n",
       "      <td>10.422983</td>\n",
       "      <td>5.636023</td>\n",
       "    </tr>\n",
       "    <tr>\n",
       "      <th>std</th>\n",
       "      <td>1.741096</td>\n",
       "      <td>0.179060</td>\n",
       "      <td>0.194801</td>\n",
       "      <td>1.409928</td>\n",
       "      <td>0.047065</td>\n",
       "      <td>10.460157</td>\n",
       "      <td>32.895324</td>\n",
       "      <td>0.001887</td>\n",
       "      <td>0.154386</td>\n",
       "      <td>0.169507</td>\n",
       "      <td>1.065668</td>\n",
       "      <td>0.807569</td>\n",
       "    </tr>\n",
       "    <tr>\n",
       "      <th>min</th>\n",
       "      <td>4.600000</td>\n",
       "      <td>0.120000</td>\n",
       "      <td>0.000000</td>\n",
       "      <td>0.900000</td>\n",
       "      <td>0.012000</td>\n",
       "      <td>1.000000</td>\n",
       "      <td>6.000000</td>\n",
       "      <td>0.990070</td>\n",
       "      <td>2.740000</td>\n",
       "      <td>0.330000</td>\n",
       "      <td>8.400000</td>\n",
       "      <td>3.000000</td>\n",
       "    </tr>\n",
       "    <tr>\n",
       "      <th>25%</th>\n",
       "      <td>7.100000</td>\n",
       "      <td>0.390000</td>\n",
       "      <td>0.090000</td>\n",
       "      <td>1.900000</td>\n",
       "      <td>0.070000</td>\n",
       "      <td>7.000000</td>\n",
       "      <td>22.000000</td>\n",
       "      <td>0.995600</td>\n",
       "      <td>3.210000</td>\n",
       "      <td>0.550000</td>\n",
       "      <td>9.500000</td>\n",
       "      <td>5.000000</td>\n",
       "    </tr>\n",
       "    <tr>\n",
       "      <th>50%</th>\n",
       "      <td>7.900000</td>\n",
       "      <td>0.520000</td>\n",
       "      <td>0.260000</td>\n",
       "      <td>2.200000</td>\n",
       "      <td>0.079000</td>\n",
       "      <td>14.000000</td>\n",
       "      <td>38.000000</td>\n",
       "      <td>0.996750</td>\n",
       "      <td>3.310000</td>\n",
       "      <td>0.620000</td>\n",
       "      <td>10.200000</td>\n",
       "      <td>6.000000</td>\n",
       "    </tr>\n",
       "    <tr>\n",
       "      <th>75%</th>\n",
       "      <td>9.200000</td>\n",
       "      <td>0.640000</td>\n",
       "      <td>0.420000</td>\n",
       "      <td>2.600000</td>\n",
       "      <td>0.090000</td>\n",
       "      <td>21.000000</td>\n",
       "      <td>62.000000</td>\n",
       "      <td>0.997835</td>\n",
       "      <td>3.400000</td>\n",
       "      <td>0.730000</td>\n",
       "      <td>11.100000</td>\n",
       "      <td>6.000000</td>\n",
       "    </tr>\n",
       "    <tr>\n",
       "      <th>max</th>\n",
       "      <td>15.900000</td>\n",
       "      <td>1.580000</td>\n",
       "      <td>1.000000</td>\n",
       "      <td>15.500000</td>\n",
       "      <td>0.611000</td>\n",
       "      <td>72.000000</td>\n",
       "      <td>289.000000</td>\n",
       "      <td>1.003690</td>\n",
       "      <td>4.010000</td>\n",
       "      <td>2.000000</td>\n",
       "      <td>14.900000</td>\n",
       "      <td>8.000000</td>\n",
       "    </tr>\n",
       "  </tbody>\n",
       "</table>\n",
       "</div>"
      ],
      "text/plain": [
       "       fixed acidity  volatile acidity  citric acid  residual sugar  \\\n",
       "count    1599.000000       1599.000000  1599.000000     1599.000000   \n",
       "mean        8.319637          0.527821     0.270976        2.538806   \n",
       "std         1.741096          0.179060     0.194801        1.409928   \n",
       "min         4.600000          0.120000     0.000000        0.900000   \n",
       "25%         7.100000          0.390000     0.090000        1.900000   \n",
       "50%         7.900000          0.520000     0.260000        2.200000   \n",
       "75%         9.200000          0.640000     0.420000        2.600000   \n",
       "max        15.900000          1.580000     1.000000       15.500000   \n",
       "\n",
       "         chlorides  free sulfur dioxide  total sulfur dioxide      density  \\\n",
       "count  1599.000000          1599.000000           1599.000000  1599.000000   \n",
       "mean      0.087467            15.874922             46.467792     0.996747   \n",
       "std       0.047065            10.460157             32.895324     0.001887   \n",
       "min       0.012000             1.000000              6.000000     0.990070   \n",
       "25%       0.070000             7.000000             22.000000     0.995600   \n",
       "50%       0.079000            14.000000             38.000000     0.996750   \n",
       "75%       0.090000            21.000000             62.000000     0.997835   \n",
       "max       0.611000            72.000000            289.000000     1.003690   \n",
       "\n",
       "                pH    sulphates      alcohol      quality  \n",
       "count  1599.000000  1599.000000  1599.000000  1599.000000  \n",
       "mean      3.311113     0.658149    10.422983     5.636023  \n",
       "std       0.154386     0.169507     1.065668     0.807569  \n",
       "min       2.740000     0.330000     8.400000     3.000000  \n",
       "25%       3.210000     0.550000     9.500000     5.000000  \n",
       "50%       3.310000     0.620000    10.200000     6.000000  \n",
       "75%       3.400000     0.730000    11.100000     6.000000  \n",
       "max       4.010000     2.000000    14.900000     8.000000  "
      ]
     },
     "execution_count": 3,
     "metadata": {},
     "output_type": "execute_result"
    }
   ],
   "source": [
    "df.describe()"
   ]
  },
  {
   "cell_type": "markdown",
   "id": "56817749",
   "metadata": {},
   "source": [
    "## Finding the null values"
   ]
  },
  {
   "cell_type": "code",
   "execution_count": 4,
   "id": "59c421ce",
   "metadata": {},
   "outputs": [
    {
     "data": {
      "text/plain": [
       "fixed acidity           0\n",
       "volatile acidity        0\n",
       "citric acid             0\n",
       "residual sugar          0\n",
       "chlorides               0\n",
       "free sulfur dioxide     0\n",
       "total sulfur dioxide    0\n",
       "density                 0\n",
       "pH                      0\n",
       "sulphates               0\n",
       "alcohol                 0\n",
       "quality                 0\n",
       "dtype: int64"
      ]
     },
     "execution_count": 4,
     "metadata": {},
     "output_type": "execute_result"
    }
   ],
   "source": [
    "df.isnull().sum()"
   ]
  },
  {
   "cell_type": "markdown",
   "id": "664eeb2d",
   "metadata": {},
   "source": [
    "## Seperating Input and output variables"
   ]
  },
  {
   "cell_type": "code",
   "execution_count": 5,
   "id": "1c16f141",
   "metadata": {},
   "outputs": [],
   "source": [
    "X = df.iloc[:,:-1].values\n",
    "y = df.iloc[:,-1].values"
   ]
  },
  {
   "cell_type": "code",
   "execution_count": 6,
   "id": "11c5ed28",
   "metadata": {},
   "outputs": [
    {
     "data": {
      "text/plain": [
       "array([[ 7.4  ,  0.7  ,  0.   , ...,  3.51 ,  0.56 ,  9.4  ],\n",
       "       [ 7.8  ,  0.88 ,  0.   , ...,  3.2  ,  0.68 ,  9.8  ],\n",
       "       [ 7.8  ,  0.76 ,  0.04 , ...,  3.26 ,  0.65 ,  9.8  ],\n",
       "       ...,\n",
       "       [ 6.3  ,  0.51 ,  0.13 , ...,  3.42 ,  0.75 , 11.   ],\n",
       "       [ 5.9  ,  0.645,  0.12 , ...,  3.57 ,  0.71 , 10.2  ],\n",
       "       [ 6.   ,  0.31 ,  0.47 , ...,  3.39 ,  0.66 , 11.   ]])"
      ]
     },
     "execution_count": 6,
     "metadata": {},
     "output_type": "execute_result"
    }
   ],
   "source": [
    "X"
   ]
  },
  {
   "cell_type": "code",
   "execution_count": 7,
   "id": "d9fbd169",
   "metadata": {},
   "outputs": [
    {
     "data": {
      "text/plain": [
       "array([5, 5, 5, ..., 6, 5, 6], dtype=int64)"
      ]
     },
     "execution_count": 7,
     "metadata": {},
     "output_type": "execute_result"
    }
   ],
   "source": [
    "y"
   ]
  },
  {
   "cell_type": "markdown",
   "id": "d5e036a6",
   "metadata": {},
   "source": [
    "## Splitting training and test set"
   ]
  },
  {
   "cell_type": "code",
   "execution_count": 8,
   "id": "2b826914",
   "metadata": {},
   "outputs": [],
   "source": [
    "from sklearn.model_selection import train_test_split\n",
    "X_train, X_test, y_train, y_test = train_test_split(X,y, test_size = 0.2)"
   ]
  },
  {
   "cell_type": "code",
   "execution_count": 9,
   "id": "6405f410",
   "metadata": {},
   "outputs": [
    {
     "data": {
      "text/plain": [
       "array([[ 7.  ,  0.43,  0.02, ...,  3.35,  0.81, 10.6 ],\n",
       "       [ 6.8 ,  0.64,  0.03, ...,  3.36,  0.58, 10.4 ],\n",
       "       [ 7.  ,  0.43,  0.36, ...,  3.34,  0.56,  9.2 ],\n",
       "       ...,\n",
       "       [ 7.4 ,  0.52,  0.13, ...,  3.43,  0.59, 10.8 ],\n",
       "       [ 7.6 ,  0.39,  0.31, ...,  3.52,  0.65,  9.7 ],\n",
       "       [10.5 ,  0.59,  0.49, ...,  3.3 ,  0.56,  9.6 ]])"
      ]
     },
     "execution_count": 9,
     "metadata": {},
     "output_type": "execute_result"
    }
   ],
   "source": [
    "X_train"
   ]
  },
  {
   "cell_type": "code",
   "execution_count": 10,
   "id": "e4b31fcd",
   "metadata": {},
   "outputs": [
    {
     "data": {
      "text/plain": [
       "array([6, 6, 6, ..., 6, 5, 4], dtype=int64)"
      ]
     },
     "execution_count": 10,
     "metadata": {},
     "output_type": "execute_result"
    }
   ],
   "source": [
    "y_train"
   ]
  },
  {
   "cell_type": "code",
   "execution_count": 11,
   "id": "777c8fee",
   "metadata": {},
   "outputs": [
    {
     "data": {
      "text/plain": [
       "array([5, 5, 6, 6, 6, 6, 5, 7, 6, 5, 7, 6, 6, 6, 6, 6, 5, 3, 7, 6, 5, 7,\n",
       "       5, 5, 7, 7, 6, 5, 5, 4, 6, 5, 7, 5, 6, 5, 7, 6, 6, 5, 5, 6, 6, 5,\n",
       "       6, 6, 6, 6, 5, 6, 5, 5, 6, 6, 5, 5, 6, 6, 7, 6, 6, 5, 7, 5, 5, 5,\n",
       "       4, 6, 5, 5, 5, 7, 6, 5, 6, 7, 5, 4, 5, 6, 6, 6, 6, 5, 5, 6, 5, 6,\n",
       "       6, 6, 5, 5, 4, 6, 5, 5, 4, 6, 5, 5, 6, 5, 6, 4, 5, 5, 5, 6, 6, 5,\n",
       "       7, 5, 5, 5, 5, 6, 5, 5, 5, 6, 6, 6, 5, 6, 6, 5, 7, 5, 5, 6, 6, 5,\n",
       "       5, 6, 7, 6, 7, 6, 7, 6, 6, 6, 6, 5, 6, 7, 6, 6, 7, 6, 7, 6, 5, 5,\n",
       "       6, 6, 7, 5, 5, 5, 5, 5, 6, 5, 6, 5, 6, 7, 6, 5, 6, 5, 6, 6, 7, 6,\n",
       "       5, 6, 4, 6, 6, 7, 5, 6, 5, 5, 6, 5, 5, 6, 6, 6, 6, 5, 4, 5, 5, 6,\n",
       "       5, 6, 6, 5, 6, 6, 6, 5, 6, 5, 5, 5, 7, 5, 5, 6, 6, 5, 5, 5, 5, 5,\n",
       "       5, 6, 7, 7, 6, 7, 5, 6, 7, 5, 5, 5, 5, 7, 6, 6, 5, 5, 6, 5, 6, 6,\n",
       "       6, 5, 6, 5, 5, 6, 6, 5, 6, 8, 7, 5, 5, 6, 6, 6, 5, 6, 6, 6, 5, 7,\n",
       "       5, 5, 6, 7, 6, 7, 6, 7, 6, 5, 5, 7, 5, 5, 5, 5, 6, 7, 6, 6, 5, 5,\n",
       "       6, 7, 7, 6, 6, 5, 6, 5, 5, 7, 5, 5, 5, 6, 5, 6, 4, 5, 7, 5, 5, 6,\n",
       "       6, 5, 5, 6, 5, 6, 5, 7, 6, 6, 7, 5], dtype=int64)"
      ]
     },
     "execution_count": 11,
     "metadata": {},
     "output_type": "execute_result"
    }
   ],
   "source": [
    "y_test"
   ]
  },
  {
   "cell_type": "code",
   "execution_count": 12,
   "id": "bbbc5b67",
   "metadata": {},
   "outputs": [
    {
     "data": {
      "text/plain": [
       "array([[9.10e+00, 5.20e-01, 3.30e-01, ..., 3.24e+00, 6.00e-01, 9.30e+00],\n",
       "       [7.70e+00, 6.70e-01, 2.30e-01, ..., 3.32e+00, 4.80e-01, 9.50e+00],\n",
       "       [7.90e+00, 2.90e-01, 4.90e-01, ..., 3.31e+00, 6.70e-01, 1.01e+01],\n",
       "       ...,\n",
       "       [1.04e+01, 4.10e-01, 5.50e-01, ..., 3.15e+00, 8.90e-01, 9.90e+00],\n",
       "       [7.30e+00, 5.50e-01, 1.00e-02, ..., 3.35e+00, 5.80e-01, 1.10e+01],\n",
       "       [6.70e+00, 5.40e-01, 1.30e-01, ..., 3.61e+00, 6.40e-01, 9.80e+00]])"
      ]
     },
     "execution_count": 12,
     "metadata": {},
     "output_type": "execute_result"
    }
   ],
   "source": [
    "X_test"
   ]
  },
  {
   "cell_type": "markdown",
   "id": "d5b47560",
   "metadata": {},
   "source": [
    "## Feature Scaling"
   ]
  },
  {
   "cell_type": "code",
   "execution_count": 13,
   "id": "26040d34",
   "metadata": {},
   "outputs": [],
   "source": [
    "from sklearn.preprocessing import StandardScaler\n",
    "sc = StandardScaler()\n",
    "X_train = sc.fit_transform(X_train)\n",
    "X_test = sc.transform(X_test)"
   ]
  },
  {
   "cell_type": "code",
   "execution_count": 14,
   "id": "90cf23cf",
   "metadata": {},
   "outputs": [
    {
     "data": {
      "text/plain": [
       "array([[-0.74688909, -0.53985105, -1.28277187, ...,  0.24749591,\n",
       "         0.86793172,  0.16009247],\n",
       "       [-0.86151934,  0.61372383, -1.23116564, ...,  0.31215017,\n",
       "        -0.46275819, -0.02715789],\n",
       "       [-0.74688909, -0.53985105,  0.4718399 , ...,  0.18284165,\n",
       "        -0.57847036, -1.15066006],\n",
       "       ...,\n",
       "       [-0.5176286 , -0.04546182, -0.71510335, ...,  0.76473   ,\n",
       "        -0.40490211,  0.34734283],\n",
       "       [-0.40299836, -0.7595796 ,  0.21380876, ...,  1.34661835,\n",
       "        -0.05776561, -0.68253415],\n",
       "       [ 1.2591402 ,  0.33906314,  1.14272087, ..., -0.0757754 ,\n",
       "        -0.57847036, -0.77615934]])"
      ]
     },
     "execution_count": 14,
     "metadata": {},
     "output_type": "execute_result"
    }
   ],
   "source": [
    "X_train"
   ]
  },
  {
   "cell_type": "markdown",
   "id": "07b3ab28",
   "metadata": {},
   "source": [
    "## Training LinearRegression Model"
   ]
  },
  {
   "cell_type": "code",
   "execution_count": 15,
   "id": "7aa377ca",
   "metadata": {},
   "outputs": [
    {
     "data": {
      "text/plain": [
       "LinearRegression()"
      ]
     },
     "execution_count": 15,
     "metadata": {},
     "output_type": "execute_result"
    }
   ],
   "source": [
    "from sklearn.linear_model import LinearRegression\n",
    "regressor = LinearRegression()\n",
    "regressor.fit(X_train, y_train)"
   ]
  },
  {
   "cell_type": "code",
   "execution_count": 16,
   "id": "fcb358d7",
   "metadata": {},
   "outputs": [
    {
     "data": {
      "text/plain": [
       "array([5.30714421, 4.89639949, 5.7226375 , 5.33772301, 5.83503123,\n",
       "       5.39979135, 5.31682825, 5.58469035, 5.49833798, 5.88865814,\n",
       "       6.37875093, 5.72212269, 6.10713876, 5.49105403, 6.23454807,\n",
       "       5.7330844 , 5.12670757, 5.1340664 , 6.02577185, 4.93571796,\n",
       "       5.26610062, 6.23984149, 5.36387456, 5.06497359, 6.40797944,\n",
       "       5.71707422, 5.2718928 , 5.18675661, 4.80688573, 4.98074042,\n",
       "       5.43095944, 5.29712367, 6.78282985, 5.04720013, 6.67335758,\n",
       "       5.46164648, 6.46756805, 5.60868643, 6.43957716, 5.21662627,\n",
       "       5.43386353, 5.86528701, 6.48330236, 6.15836299, 6.01972056,\n",
       "       5.59432241, 5.5407778 , 6.04476428, 5.12611687, 5.96939685,\n",
       "       4.85614489, 5.11271907, 6.09458532, 4.9788732 , 5.5760863 ,\n",
       "       5.10745891, 5.3171209 , 5.46295596, 6.43768771, 5.79653858,\n",
       "       5.45777218, 5.90671049, 6.49537555, 5.79692939, 5.38202311,\n",
       "       5.91320706, 5.47197487, 5.42524846, 5.25723555, 5.61991468,\n",
       "       4.87149577, 6.14028849, 5.76415249, 5.38202311, 5.36466955,\n",
       "       5.85530077, 5.44553566, 5.62519513, 5.31181838, 5.92823447,\n",
       "       5.23287207, 5.57484313, 5.54305151, 5.71601343, 5.71601343,\n",
       "       5.42276442, 5.34075354, 6.5606139 , 5.79364865, 6.21271279,\n",
       "       6.07303656, 5.19805467, 5.33491149, 5.21412342, 4.97874901,\n",
       "       5.56721811, 4.845577  , 6.38280957, 5.85735244, 5.68209237,\n",
       "       5.06370109, 5.95688147, 5.23287207, 5.77046422, 5.63290956,\n",
       "       5.30852364, 5.59560857, 5.62140066, 5.38999089, 5.83814142,\n",
       "       6.68252797, 5.15417802, 4.80110892, 5.18613346, 5.0808743 ,\n",
       "       5.42370112, 5.02256018, 5.16403816, 5.63502965, 5.32787692,\n",
       "       5.90152707, 5.97300853, 5.85614822, 4.97814967, 4.76489326,\n",
       "       5.02026213, 6.29814597, 5.40239971, 5.66788666, 5.74535461,\n",
       "       5.19651437, 4.98542742, 4.81398762, 5.37525192, 6.1959229 ,\n",
       "       5.67217986, 6.90827791, 5.57247363, 6.02413396, 6.50758472,\n",
       "       5.73971446, 5.19460784, 6.70533934, 5.02812895, 6.19554693,\n",
       "       6.06574164, 5.55268344, 5.65906808, 6.32016788, 6.03859204,\n",
       "       5.58559592, 6.27480924, 5.24663312, 5.21415279, 5.81839994,\n",
       "       5.15257943, 5.49516256, 5.17852202, 6.20188692, 5.04407489,\n",
       "       5.12303234, 5.11173908, 6.47150572, 4.85520011, 5.52339764,\n",
       "       5.07648709, 5.32191678, 6.0695593 , 5.71960462, 4.78549302,\n",
       "       5.73299849, 6.01986735, 5.99944234, 4.98398719, 6.06626949,\n",
       "       6.39982175, 5.39413028, 5.86583619, 6.09723941, 5.59649839,\n",
       "       5.70872345, 6.44710148, 5.36724397, 5.76835264, 5.62439606,\n",
       "       5.09374326, 5.70275954, 5.96228266, 5.64242819, 5.30268901,\n",
       "       5.68926469, 6.22855078, 4.94580036, 4.6092421 , 5.91364135,\n",
       "       5.21662627, 5.44040535, 5.45063865, 5.69037948, 5.64068921,\n",
       "       5.78041972, 5.21452969, 5.36582871, 5.33772301, 5.32761656,\n",
       "       5.40606017, 6.49382523, 5.73035926, 5.29160276, 5.75324123,\n",
       "       6.61562946, 5.31682825, 5.02603361, 5.58910258, 5.61835822,\n",
       "       5.21638249, 5.66097786, 5.65696398, 5.4311545 , 5.11372688,\n",
       "       5.32779507, 6.03467948, 6.4626643 , 6.14400879, 5.21306443,\n",
       "       6.25125462, 5.35746369, 5.81138581, 5.57376912, 5.79692939,\n",
       "       5.68480376, 5.32172734, 5.38710207, 5.97867631, 5.90837388,\n",
       "       5.12658666, 5.02222685, 4.75094025, 5.01655831, 5.23306403,\n",
       "       6.1200364 , 5.92527566, 5.4108637 , 5.58770587, 5.72283866,\n",
       "       5.89681139, 5.02154294, 6.29347431, 5.80563655, 5.21493557,\n",
       "       5.64782867, 6.23584847, 6.16966434, 5.26916519, 5.12616969,\n",
       "       6.02541959, 6.77184049, 5.89710072, 5.38148673, 6.21285162,\n",
       "       5.59947745, 5.32054424, 5.20895215, 5.32008374, 5.01559589,\n",
       "       4.87505313, 6.42322606, 6.3514014 , 5.28931725, 6.34150141,\n",
       "       5.3305792 , 6.26676249, 5.94571276, 6.22232067, 5.40833798,\n",
       "       6.42464948, 5.45740603, 5.72185566, 5.47847   , 5.08881168,\n",
       "       5.85037011, 6.76894871, 5.68633122, 5.4593407 , 5.48315453,\n",
       "       5.10191845, 6.02413784, 5.97320074, 5.55910226, 5.78031839,\n",
       "       6.20201997, 5.18448585, 5.73299849, 5.40876021, 4.96906935,\n",
       "       6.41251151, 5.59310256, 5.52528081, 5.27417354, 5.42500681,\n",
       "       5.66944172, 6.07574045, 4.96734507, 5.01195184, 6.40694363,\n",
       "       6.2918983 , 5.53669845, 6.15232167, 5.14822175, 5.4311545 ,\n",
       "       5.41290084, 5.62091483, 5.31859615, 5.82600471, 4.94152636,\n",
       "       6.48272697, 5.23595828, 5.85683022, 5.77105502, 5.30878072])"
      ]
     },
     "execution_count": 16,
     "metadata": {},
     "output_type": "execute_result"
    }
   ],
   "source": [
    "y_pred = regressor.predict(X_test)\n",
    "y_pred"
   ]
  },
  {
   "cell_type": "markdown",
   "id": "7317717a",
   "metadata": {},
   "source": [
    "## Evaluating performance"
   ]
  },
  {
   "cell_type": "code",
   "execution_count": 17,
   "id": "8edf5559",
   "metadata": {},
   "outputs": [
    {
     "name": "stdout",
     "output_type": "stream",
     "text": [
      "0.3075605103858339\n"
     ]
    }
   ],
   "source": [
    "from sklearn.metrics import r2_score\n",
    "print(r2_score(y_test, regressor.predict(X_test)))"
   ]
  },
  {
   "cell_type": "markdown",
   "id": "be67701b",
   "metadata": {},
   "source": [
    "## Cross Validation"
   ]
  },
  {
   "cell_type": "code",
   "execution_count": 18,
   "id": "51e7b2e1",
   "metadata": {},
   "outputs": [
    {
     "data": {
      "text/plain": [
       "array([0.13200871, 0.31858135, 0.34955348, 0.369145  , 0.2809196 ])"
      ]
     },
     "execution_count": 18,
     "metadata": {},
     "output_type": "execute_result"
    }
   ],
   "source": [
    "from sklearn.model_selection import cross_val_score\n",
    "cross_val_score(regressor,X,y,scoring = 'r2',cv = 5)"
   ]
  }
 ],
 "metadata": {
  "kernelspec": {
   "display_name": "Python 3 (ipykernel)",
   "language": "python",
   "name": "python3"
  },
  "language_info": {
   "codemirror_mode": {
    "name": "ipython",
    "version": 3
   },
   "file_extension": ".py",
   "mimetype": "text/x-python",
   "name": "python",
   "nbconvert_exporter": "python",
   "pygments_lexer": "ipython3",
   "version": "3.9.13"
  }
 },
 "nbformat": 4,
 "nbformat_minor": 5
}
