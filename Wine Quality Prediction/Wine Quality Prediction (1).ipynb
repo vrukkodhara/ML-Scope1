{
 "cells": [
  {
   "cell_type": "markdown",
   "id": "309eea2d",
   "metadata": {},
   "source": [
    "## Importing Libraries"
   ]
  },
  {
   "cell_type": "code",
   "execution_count": 1,
   "id": "8ccf293a",
   "metadata": {},
   "outputs": [],
   "source": [
    "import numpy as np\n",
    "import pandas as pd\n",
    "import matplotlib.pyplot as plt"
   ]
  },
  {
   "cell_type": "markdown",
   "id": "6349a0ca",
   "metadata": {},
   "source": [
    "## Reading Dataset"
   ]
  },
  {
   "cell_type": "code",
   "execution_count": 2,
   "id": "2fe87ee0",
   "metadata": {},
   "outputs": [
    {
     "data": {
      "text/html": [
       "<div>\n",
       "<style scoped>\n",
       "    .dataframe tbody tr th:only-of-type {\n",
       "        vertical-align: middle;\n",
       "    }\n",
       "\n",
       "    .dataframe tbody tr th {\n",
       "        vertical-align: top;\n",
       "    }\n",
       "\n",
       "    .dataframe thead th {\n",
       "        text-align: right;\n",
       "    }\n",
       "</style>\n",
       "<table border=\"1\" class=\"dataframe\">\n",
       "  <thead>\n",
       "    <tr style=\"text-align: right;\">\n",
       "      <th></th>\n",
       "      <th>fixed acidity</th>\n",
       "      <th>volatile acidity</th>\n",
       "      <th>citric acid</th>\n",
       "      <th>residual sugar</th>\n",
       "      <th>chlorides</th>\n",
       "      <th>free sulfur dioxide</th>\n",
       "      <th>total sulfur dioxide</th>\n",
       "      <th>density</th>\n",
       "      <th>pH</th>\n",
       "      <th>sulphates</th>\n",
       "      <th>alcohol</th>\n",
       "      <th>quality</th>\n",
       "    </tr>\n",
       "  </thead>\n",
       "  <tbody>\n",
       "    <tr>\n",
       "      <th>0</th>\n",
       "      <td>7.4</td>\n",
       "      <td>0.700</td>\n",
       "      <td>0.00</td>\n",
       "      <td>1.9</td>\n",
       "      <td>0.076</td>\n",
       "      <td>11.0</td>\n",
       "      <td>34.0</td>\n",
       "      <td>0.99780</td>\n",
       "      <td>3.51</td>\n",
       "      <td>0.56</td>\n",
       "      <td>9.4</td>\n",
       "      <td>5</td>\n",
       "    </tr>\n",
       "    <tr>\n",
       "      <th>1</th>\n",
       "      <td>7.8</td>\n",
       "      <td>0.880</td>\n",
       "      <td>0.00</td>\n",
       "      <td>2.6</td>\n",
       "      <td>0.098</td>\n",
       "      <td>25.0</td>\n",
       "      <td>67.0</td>\n",
       "      <td>0.99680</td>\n",
       "      <td>3.20</td>\n",
       "      <td>0.68</td>\n",
       "      <td>9.8</td>\n",
       "      <td>5</td>\n",
       "    </tr>\n",
       "    <tr>\n",
       "      <th>2</th>\n",
       "      <td>7.8</td>\n",
       "      <td>0.760</td>\n",
       "      <td>0.04</td>\n",
       "      <td>2.3</td>\n",
       "      <td>0.092</td>\n",
       "      <td>15.0</td>\n",
       "      <td>54.0</td>\n",
       "      <td>0.99700</td>\n",
       "      <td>3.26</td>\n",
       "      <td>0.65</td>\n",
       "      <td>9.8</td>\n",
       "      <td>5</td>\n",
       "    </tr>\n",
       "    <tr>\n",
       "      <th>3</th>\n",
       "      <td>11.2</td>\n",
       "      <td>0.280</td>\n",
       "      <td>0.56</td>\n",
       "      <td>1.9</td>\n",
       "      <td>0.075</td>\n",
       "      <td>17.0</td>\n",
       "      <td>60.0</td>\n",
       "      <td>0.99800</td>\n",
       "      <td>3.16</td>\n",
       "      <td>0.58</td>\n",
       "      <td>9.8</td>\n",
       "      <td>6</td>\n",
       "    </tr>\n",
       "    <tr>\n",
       "      <th>4</th>\n",
       "      <td>7.4</td>\n",
       "      <td>0.700</td>\n",
       "      <td>0.00</td>\n",
       "      <td>1.9</td>\n",
       "      <td>0.076</td>\n",
       "      <td>11.0</td>\n",
       "      <td>34.0</td>\n",
       "      <td>0.99780</td>\n",
       "      <td>3.51</td>\n",
       "      <td>0.56</td>\n",
       "      <td>9.4</td>\n",
       "      <td>5</td>\n",
       "    </tr>\n",
       "    <tr>\n",
       "      <th>...</th>\n",
       "      <td>...</td>\n",
       "      <td>...</td>\n",
       "      <td>...</td>\n",
       "      <td>...</td>\n",
       "      <td>...</td>\n",
       "      <td>...</td>\n",
       "      <td>...</td>\n",
       "      <td>...</td>\n",
       "      <td>...</td>\n",
       "      <td>...</td>\n",
       "      <td>...</td>\n",
       "      <td>...</td>\n",
       "    </tr>\n",
       "    <tr>\n",
       "      <th>1594</th>\n",
       "      <td>6.2</td>\n",
       "      <td>0.600</td>\n",
       "      <td>0.08</td>\n",
       "      <td>2.0</td>\n",
       "      <td>0.090</td>\n",
       "      <td>32.0</td>\n",
       "      <td>44.0</td>\n",
       "      <td>0.99490</td>\n",
       "      <td>3.45</td>\n",
       "      <td>0.58</td>\n",
       "      <td>10.5</td>\n",
       "      <td>5</td>\n",
       "    </tr>\n",
       "    <tr>\n",
       "      <th>1595</th>\n",
       "      <td>5.9</td>\n",
       "      <td>0.550</td>\n",
       "      <td>0.10</td>\n",
       "      <td>2.2</td>\n",
       "      <td>0.062</td>\n",
       "      <td>39.0</td>\n",
       "      <td>51.0</td>\n",
       "      <td>0.99512</td>\n",
       "      <td>3.52</td>\n",
       "      <td>0.76</td>\n",
       "      <td>11.2</td>\n",
       "      <td>6</td>\n",
       "    </tr>\n",
       "    <tr>\n",
       "      <th>1596</th>\n",
       "      <td>6.3</td>\n",
       "      <td>0.510</td>\n",
       "      <td>0.13</td>\n",
       "      <td>2.3</td>\n",
       "      <td>0.076</td>\n",
       "      <td>29.0</td>\n",
       "      <td>40.0</td>\n",
       "      <td>0.99574</td>\n",
       "      <td>3.42</td>\n",
       "      <td>0.75</td>\n",
       "      <td>11.0</td>\n",
       "      <td>6</td>\n",
       "    </tr>\n",
       "    <tr>\n",
       "      <th>1597</th>\n",
       "      <td>5.9</td>\n",
       "      <td>0.645</td>\n",
       "      <td>0.12</td>\n",
       "      <td>2.0</td>\n",
       "      <td>0.075</td>\n",
       "      <td>32.0</td>\n",
       "      <td>44.0</td>\n",
       "      <td>0.99547</td>\n",
       "      <td>3.57</td>\n",
       "      <td>0.71</td>\n",
       "      <td>10.2</td>\n",
       "      <td>5</td>\n",
       "    </tr>\n",
       "    <tr>\n",
       "      <th>1598</th>\n",
       "      <td>6.0</td>\n",
       "      <td>0.310</td>\n",
       "      <td>0.47</td>\n",
       "      <td>3.6</td>\n",
       "      <td>0.067</td>\n",
       "      <td>18.0</td>\n",
       "      <td>42.0</td>\n",
       "      <td>0.99549</td>\n",
       "      <td>3.39</td>\n",
       "      <td>0.66</td>\n",
       "      <td>11.0</td>\n",
       "      <td>6</td>\n",
       "    </tr>\n",
       "  </tbody>\n",
       "</table>\n",
       "<p>1599 rows × 12 columns</p>\n",
       "</div>"
      ],
      "text/plain": [
       "      fixed acidity  volatile acidity  citric acid  residual sugar  chlorides  \\\n",
       "0               7.4             0.700         0.00             1.9      0.076   \n",
       "1               7.8             0.880         0.00             2.6      0.098   \n",
       "2               7.8             0.760         0.04             2.3      0.092   \n",
       "3              11.2             0.280         0.56             1.9      0.075   \n",
       "4               7.4             0.700         0.00             1.9      0.076   \n",
       "...             ...               ...          ...             ...        ...   \n",
       "1594            6.2             0.600         0.08             2.0      0.090   \n",
       "1595            5.9             0.550         0.10             2.2      0.062   \n",
       "1596            6.3             0.510         0.13             2.3      0.076   \n",
       "1597            5.9             0.645         0.12             2.0      0.075   \n",
       "1598            6.0             0.310         0.47             3.6      0.067   \n",
       "\n",
       "      free sulfur dioxide  total sulfur dioxide  density    pH  sulphates  \\\n",
       "0                    11.0                  34.0  0.99780  3.51       0.56   \n",
       "1                    25.0                  67.0  0.99680  3.20       0.68   \n",
       "2                    15.0                  54.0  0.99700  3.26       0.65   \n",
       "3                    17.0                  60.0  0.99800  3.16       0.58   \n",
       "4                    11.0                  34.0  0.99780  3.51       0.56   \n",
       "...                   ...                   ...      ...   ...        ...   \n",
       "1594                 32.0                  44.0  0.99490  3.45       0.58   \n",
       "1595                 39.0                  51.0  0.99512  3.52       0.76   \n",
       "1596                 29.0                  40.0  0.99574  3.42       0.75   \n",
       "1597                 32.0                  44.0  0.99547  3.57       0.71   \n",
       "1598                 18.0                  42.0  0.99549  3.39       0.66   \n",
       "\n",
       "      alcohol  quality  \n",
       "0         9.4        5  \n",
       "1         9.8        5  \n",
       "2         9.8        5  \n",
       "3         9.8        6  \n",
       "4         9.4        5  \n",
       "...       ...      ...  \n",
       "1594     10.5        5  \n",
       "1595     11.2        6  \n",
       "1596     11.0        6  \n",
       "1597     10.2        5  \n",
       "1598     11.0        6  \n",
       "\n",
       "[1599 rows x 12 columns]"
      ]
     },
     "execution_count": 2,
     "metadata": {},
     "output_type": "execute_result"
    }
   ],
   "source": [
    "df = pd.read_csv(\"C:\\\\Users\\\\Nagasai\\\\Downloads\\\\winequality-red.csv\")\n",
    "df"
   ]
  },
  {
   "cell_type": "code",
   "execution_count": 3,
   "id": "8c54a0f2",
   "metadata": {},
   "outputs": [
    {
     "data": {
      "text/html": [
       "<div>\n",
       "<style scoped>\n",
       "    .dataframe tbody tr th:only-of-type {\n",
       "        vertical-align: middle;\n",
       "    }\n",
       "\n",
       "    .dataframe tbody tr th {\n",
       "        vertical-align: top;\n",
       "    }\n",
       "\n",
       "    .dataframe thead th {\n",
       "        text-align: right;\n",
       "    }\n",
       "</style>\n",
       "<table border=\"1\" class=\"dataframe\">\n",
       "  <thead>\n",
       "    <tr style=\"text-align: right;\">\n",
       "      <th></th>\n",
       "      <th>fixed acidity</th>\n",
       "      <th>volatile acidity</th>\n",
       "      <th>citric acid</th>\n",
       "      <th>residual sugar</th>\n",
       "      <th>chlorides</th>\n",
       "      <th>free sulfur dioxide</th>\n",
       "      <th>total sulfur dioxide</th>\n",
       "      <th>density</th>\n",
       "      <th>pH</th>\n",
       "      <th>sulphates</th>\n",
       "      <th>alcohol</th>\n",
       "      <th>quality</th>\n",
       "    </tr>\n",
       "  </thead>\n",
       "  <tbody>\n",
       "    <tr>\n",
       "      <th>count</th>\n",
       "      <td>1599.000000</td>\n",
       "      <td>1599.000000</td>\n",
       "      <td>1599.000000</td>\n",
       "      <td>1599.000000</td>\n",
       "      <td>1599.000000</td>\n",
       "      <td>1599.000000</td>\n",
       "      <td>1599.000000</td>\n",
       "      <td>1599.000000</td>\n",
       "      <td>1599.000000</td>\n",
       "      <td>1599.000000</td>\n",
       "      <td>1599.000000</td>\n",
       "      <td>1599.000000</td>\n",
       "    </tr>\n",
       "    <tr>\n",
       "      <th>mean</th>\n",
       "      <td>8.319637</td>\n",
       "      <td>0.527821</td>\n",
       "      <td>0.270976</td>\n",
       "      <td>2.538806</td>\n",
       "      <td>0.087467</td>\n",
       "      <td>15.874922</td>\n",
       "      <td>46.467792</td>\n",
       "      <td>0.996747</td>\n",
       "      <td>3.311113</td>\n",
       "      <td>0.658149</td>\n",
       "      <td>10.422983</td>\n",
       "      <td>5.636023</td>\n",
       "    </tr>\n",
       "    <tr>\n",
       "      <th>std</th>\n",
       "      <td>1.741096</td>\n",
       "      <td>0.179060</td>\n",
       "      <td>0.194801</td>\n",
       "      <td>1.409928</td>\n",
       "      <td>0.047065</td>\n",
       "      <td>10.460157</td>\n",
       "      <td>32.895324</td>\n",
       "      <td>0.001887</td>\n",
       "      <td>0.154386</td>\n",
       "      <td>0.169507</td>\n",
       "      <td>1.065668</td>\n",
       "      <td>0.807569</td>\n",
       "    </tr>\n",
       "    <tr>\n",
       "      <th>min</th>\n",
       "      <td>4.600000</td>\n",
       "      <td>0.120000</td>\n",
       "      <td>0.000000</td>\n",
       "      <td>0.900000</td>\n",
       "      <td>0.012000</td>\n",
       "      <td>1.000000</td>\n",
       "      <td>6.000000</td>\n",
       "      <td>0.990070</td>\n",
       "      <td>2.740000</td>\n",
       "      <td>0.330000</td>\n",
       "      <td>8.400000</td>\n",
       "      <td>3.000000</td>\n",
       "    </tr>\n",
       "    <tr>\n",
       "      <th>25%</th>\n",
       "      <td>7.100000</td>\n",
       "      <td>0.390000</td>\n",
       "      <td>0.090000</td>\n",
       "      <td>1.900000</td>\n",
       "      <td>0.070000</td>\n",
       "      <td>7.000000</td>\n",
       "      <td>22.000000</td>\n",
       "      <td>0.995600</td>\n",
       "      <td>3.210000</td>\n",
       "      <td>0.550000</td>\n",
       "      <td>9.500000</td>\n",
       "      <td>5.000000</td>\n",
       "    </tr>\n",
       "    <tr>\n",
       "      <th>50%</th>\n",
       "      <td>7.900000</td>\n",
       "      <td>0.520000</td>\n",
       "      <td>0.260000</td>\n",
       "      <td>2.200000</td>\n",
       "      <td>0.079000</td>\n",
       "      <td>14.000000</td>\n",
       "      <td>38.000000</td>\n",
       "      <td>0.996750</td>\n",
       "      <td>3.310000</td>\n",
       "      <td>0.620000</td>\n",
       "      <td>10.200000</td>\n",
       "      <td>6.000000</td>\n",
       "    </tr>\n",
       "    <tr>\n",
       "      <th>75%</th>\n",
       "      <td>9.200000</td>\n",
       "      <td>0.640000</td>\n",
       "      <td>0.420000</td>\n",
       "      <td>2.600000</td>\n",
       "      <td>0.090000</td>\n",
       "      <td>21.000000</td>\n",
       "      <td>62.000000</td>\n",
       "      <td>0.997835</td>\n",
       "      <td>3.400000</td>\n",
       "      <td>0.730000</td>\n",
       "      <td>11.100000</td>\n",
       "      <td>6.000000</td>\n",
       "    </tr>\n",
       "    <tr>\n",
       "      <th>max</th>\n",
       "      <td>15.900000</td>\n",
       "      <td>1.580000</td>\n",
       "      <td>1.000000</td>\n",
       "      <td>15.500000</td>\n",
       "      <td>0.611000</td>\n",
       "      <td>72.000000</td>\n",
       "      <td>289.000000</td>\n",
       "      <td>1.003690</td>\n",
       "      <td>4.010000</td>\n",
       "      <td>2.000000</td>\n",
       "      <td>14.900000</td>\n",
       "      <td>8.000000</td>\n",
       "    </tr>\n",
       "  </tbody>\n",
       "</table>\n",
       "</div>"
      ],
      "text/plain": [
       "       fixed acidity  volatile acidity  citric acid  residual sugar  \\\n",
       "count    1599.000000       1599.000000  1599.000000     1599.000000   \n",
       "mean        8.319637          0.527821     0.270976        2.538806   \n",
       "std         1.741096          0.179060     0.194801        1.409928   \n",
       "min         4.600000          0.120000     0.000000        0.900000   \n",
       "25%         7.100000          0.390000     0.090000        1.900000   \n",
       "50%         7.900000          0.520000     0.260000        2.200000   \n",
       "75%         9.200000          0.640000     0.420000        2.600000   \n",
       "max        15.900000          1.580000     1.000000       15.500000   \n",
       "\n",
       "         chlorides  free sulfur dioxide  total sulfur dioxide      density  \\\n",
       "count  1599.000000          1599.000000           1599.000000  1599.000000   \n",
       "mean      0.087467            15.874922             46.467792     0.996747   \n",
       "std       0.047065            10.460157             32.895324     0.001887   \n",
       "min       0.012000             1.000000              6.000000     0.990070   \n",
       "25%       0.070000             7.000000             22.000000     0.995600   \n",
       "50%       0.079000            14.000000             38.000000     0.996750   \n",
       "75%       0.090000            21.000000             62.000000     0.997835   \n",
       "max       0.611000            72.000000            289.000000     1.003690   \n",
       "\n",
       "                pH    sulphates      alcohol      quality  \n",
       "count  1599.000000  1599.000000  1599.000000  1599.000000  \n",
       "mean      3.311113     0.658149    10.422983     5.636023  \n",
       "std       0.154386     0.169507     1.065668     0.807569  \n",
       "min       2.740000     0.330000     8.400000     3.000000  \n",
       "25%       3.210000     0.550000     9.500000     5.000000  \n",
       "50%       3.310000     0.620000    10.200000     6.000000  \n",
       "75%       3.400000     0.730000    11.100000     6.000000  \n",
       "max       4.010000     2.000000    14.900000     8.000000  "
      ]
     },
     "execution_count": 3,
     "metadata": {},
     "output_type": "execute_result"
    }
   ],
   "source": [
    "df.describe()"
   ]
  },
  {
   "cell_type": "markdown",
   "id": "56817749",
   "metadata": {},
   "source": [
    "## Finding the null values"
   ]
  },
  {
   "cell_type": "code",
   "execution_count": 4,
   "id": "59c421ce",
   "metadata": {},
   "outputs": [
    {
     "data": {
      "text/plain": [
       "fixed acidity           0\n",
       "volatile acidity        0\n",
       "citric acid             0\n",
       "residual sugar          0\n",
       "chlorides               0\n",
       "free sulfur dioxide     0\n",
       "total sulfur dioxide    0\n",
       "density                 0\n",
       "pH                      0\n",
       "sulphates               0\n",
       "alcohol                 0\n",
       "quality                 0\n",
       "dtype: int64"
      ]
     },
     "execution_count": 4,
     "metadata": {},
     "output_type": "execute_result"
    }
   ],
   "source": [
    "df.isnull().sum()"
   ]
  },
  {
   "cell_type": "markdown",
   "id": "664eeb2d",
   "metadata": {},
   "source": [
    "## Seperating Input and output variables"
   ]
  },
  {
   "cell_type": "code",
   "execution_count": 5,
   "id": "1c16f141",
   "metadata": {},
   "outputs": [],
   "source": [
    "X = df.iloc[:,:-1].values\n",
    "y = df.iloc[:,-1].values"
   ]
  },
  {
   "cell_type": "code",
   "execution_count": 6,
   "id": "11c5ed28",
   "metadata": {},
   "outputs": [
    {
     "data": {
      "text/plain": [
       "array([[ 7.4  ,  0.7  ,  0.   , ...,  3.51 ,  0.56 ,  9.4  ],\n",
       "       [ 7.8  ,  0.88 ,  0.   , ...,  3.2  ,  0.68 ,  9.8  ],\n",
       "       [ 7.8  ,  0.76 ,  0.04 , ...,  3.26 ,  0.65 ,  9.8  ],\n",
       "       ...,\n",
       "       [ 6.3  ,  0.51 ,  0.13 , ...,  3.42 ,  0.75 , 11.   ],\n",
       "       [ 5.9  ,  0.645,  0.12 , ...,  3.57 ,  0.71 , 10.2  ],\n",
       "       [ 6.   ,  0.31 ,  0.47 , ...,  3.39 ,  0.66 , 11.   ]])"
      ]
     },
     "execution_count": 6,
     "metadata": {},
     "output_type": "execute_result"
    }
   ],
   "source": [
    "X"
   ]
  },
  {
   "cell_type": "code",
   "execution_count": 7,
   "id": "d9fbd169",
   "metadata": {},
   "outputs": [
    {
     "data": {
      "text/plain": [
       "array([5, 5, 5, ..., 6, 5, 6], dtype=int64)"
      ]
     },
     "execution_count": 7,
     "metadata": {},
     "output_type": "execute_result"
    }
   ],
   "source": [
    "y"
   ]
  },
  {
   "cell_type": "markdown",
   "id": "d5e036a6",
   "metadata": {},
   "source": [
    "## Splitting training and test set"
   ]
  },
  {
   "cell_type": "code",
   "execution_count": 8,
   "id": "2b826914",
   "metadata": {},
   "outputs": [],
   "source": [
    "from sklearn.model_selection import train_test_split\n",
    "X_train, X_test, y_train, y_test = train_test_split(X,y, test_size = 0.2)"
   ]
  },
  {
   "cell_type": "code",
   "execution_count": 9,
   "id": "6405f410",
   "metadata": {},
   "outputs": [
    {
     "data": {
      "text/plain": [
       "array([[ 7.6 ,  0.36,  0.31, ...,  3.46,  0.62,  9.5 ],\n",
       "       [12.2 ,  0.45,  0.49, ...,  3.13,  0.63, 10.4 ],\n",
       "       [12.  ,  0.38,  0.56, ...,  3.14,  0.71, 10.9 ],\n",
       "       ...,\n",
       "       [ 8.4 ,  0.36,  0.32, ...,  3.3 ,  0.72, 11.  ],\n",
       "       [ 9.7 ,  0.69,  0.32, ...,  3.29,  0.62, 10.1 ],\n",
       "       [ 8.7 ,  0.42,  0.45, ...,  3.33,  0.77, 12.  ]])"
      ]
     },
     "execution_count": 9,
     "metadata": {},
     "output_type": "execute_result"
    }
   ],
   "source": [
    "X_train"
   ]
  },
  {
   "cell_type": "code",
   "execution_count": 10,
   "id": "e4b31fcd",
   "metadata": {},
   "outputs": [
    {
     "data": {
      "text/plain": [
       "array([6, 5, 6, ..., 6, 5, 6], dtype=int64)"
      ]
     },
     "execution_count": 10,
     "metadata": {},
     "output_type": "execute_result"
    }
   ],
   "source": [
    "y_train"
   ]
  },
  {
   "cell_type": "code",
   "execution_count": 11,
   "id": "777c8fee",
   "metadata": {},
   "outputs": [
    {
     "data": {
      "text/plain": [
       "array([5, 5, 6, 6, 6, 7, 5, 5, 5, 6, 5, 5, 6, 5, 5, 5, 6, 6, 6, 5, 6, 7,\n",
       "       5, 6, 6, 5, 6, 5, 5, 5, 8, 5, 6, 7, 5, 7, 6, 7, 6, 5, 5, 5, 5, 5,\n",
       "       6, 7, 5, 5, 7, 6, 5, 6, 7, 5, 5, 4, 6, 5, 4, 6, 5, 5, 5, 6, 7, 6,\n",
       "       6, 6, 4, 7, 6, 5, 5, 5, 6, 5, 5, 6, 5, 7, 5, 5, 7, 7, 6, 5, 6, 6,\n",
       "       6, 7, 5, 7, 5, 6, 5, 5, 5, 7, 5, 6, 5, 6, 6, 7, 5, 6, 6, 5, 7, 6,\n",
       "       7, 7, 7, 5, 4, 7, 6, 6, 5, 8, 5, 7, 7, 7, 6, 5, 5, 6, 6, 6, 6, 5,\n",
       "       5, 5, 5, 6, 6, 6, 6, 6, 7, 7, 6, 7, 6, 5, 5, 5, 5, 6, 5, 5, 5, 6,\n",
       "       7, 4, 6, 7, 5, 7, 5, 5, 7, 5, 5, 5, 5, 7, 6, 5, 8, 5, 5, 6, 6, 4,\n",
       "       6, 5, 5, 5, 4, 6, 5, 5, 5, 5, 6, 5, 5, 6, 5, 5, 6, 7, 5, 7, 6, 4,\n",
       "       6, 5, 6, 6, 5, 5, 5, 6, 6, 6, 6, 5, 5, 5, 5, 5, 8, 6, 6, 7, 5, 6,\n",
       "       5, 6, 5, 5, 6, 5, 6, 7, 6, 5, 5, 6, 6, 6, 6, 5, 5, 6, 5, 6, 6, 5,\n",
       "       5, 5, 7, 5, 5, 6, 6, 6, 6, 7, 6, 6, 6, 6, 5, 7, 6, 5, 5, 5, 5, 6,\n",
       "       5, 6, 6, 5, 6, 6, 6, 6, 7, 6, 5, 6, 5, 7, 5, 6, 5, 7, 7, 5, 5, 6,\n",
       "       6, 5, 5, 6, 4, 5, 6, 5, 6, 5, 5, 5, 5, 6, 6, 4, 5, 6, 7, 6, 6, 7,\n",
       "       6, 5, 6, 6, 5, 5, 6, 5, 5, 5, 7, 5], dtype=int64)"
      ]
     },
     "execution_count": 11,
     "metadata": {},
     "output_type": "execute_result"
    }
   ],
   "source": [
    "y_test"
   ]
  },
  {
   "cell_type": "code",
   "execution_count": 12,
   "id": "bbbc5b67",
   "metadata": {},
   "outputs": [
    {
     "data": {
      "text/plain": [
       "array([[10.8  ,  0.45 ,  0.33 , ...,  3.24 ,  0.71 , 10.8  ],\n",
       "       [ 9.   ,  0.58 ,  0.25 , ...,  3.27 ,  0.72 ,  9.6  ],\n",
       "       [ 7.2  ,  0.38 ,  0.3  , ...,  3.42 ,  0.59 ,  9.5  ],\n",
       "       ...,\n",
       "       [ 8.8  ,  0.4  ,  0.4  , ...,  3.44 ,  0.64 ,  9.2  ],\n",
       "       [11.9  ,  0.695,  0.53 , ...,  3.17 ,  0.84 , 12.2  ],\n",
       "       [ 7.2  ,  0.655,  0.03 , ...,  3.34 ,  0.39 ,  9.5  ]])"
      ]
     },
     "execution_count": 12,
     "metadata": {},
     "output_type": "execute_result"
    }
   ],
   "source": [
    "X_test"
   ]
  },
  {
   "cell_type": "markdown",
   "id": "d5b47560",
   "metadata": {},
   "source": [
    "## Feature Scaling"
   ]
  },
  {
   "cell_type": "code",
   "execution_count": 13,
   "id": "26040d34",
   "metadata": {},
   "outputs": [],
   "source": [
    "from sklearn.preprocessing import StandardScaler\n",
    "sc = StandardScaler()\n",
    "X_train = sc.fit_transform(X_train)\n",
    "X_test = sc.transform(X_test)"
   ]
  },
  {
   "cell_type": "code",
   "execution_count": 14,
   "id": "90cf23cf",
   "metadata": {},
   "outputs": [
    {
     "data": {
      "text/plain": [
       "array([[-0.40314494, -0.92671379,  0.21255498, ...,  0.94530029,\n",
       "        -0.22533623, -0.8690753 ],\n",
       "       [ 2.25470239, -0.42900453,  1.13864145, ..., -1.19138312,\n",
       "        -0.16782176, -0.01547374],\n",
       "       [ 2.13914381, -0.81611173,  1.49878618, ..., -1.12663514,\n",
       "         0.29229406,  0.45874935],\n",
       "       ...,\n",
       "       [ 0.05908938, -0.92671379,  0.26400423, ..., -0.09066742,\n",
       "         0.34980854,  0.55359397],\n",
       "       [ 0.81022014,  0.89822014,  0.26400423, ..., -0.15541541,\n",
       "        -0.22533623, -0.30000759],\n",
       "       [ 0.23242725, -0.59490762,  0.93284445, ...,  0.10357652,\n",
       "         0.63738092,  1.50204014]])"
      ]
     },
     "execution_count": 14,
     "metadata": {},
     "output_type": "execute_result"
    }
   ],
   "source": [
    "X_train"
   ]
  },
  {
   "cell_type": "markdown",
   "id": "7d3a11b7",
   "metadata": {},
   "source": [
    "## Principal Component Analysis"
   ]
  },
  {
   "cell_type": "code",
   "execution_count": 15,
   "id": "08df856a",
   "metadata": {},
   "outputs": [],
   "source": [
    "from sklearn.decomposition import PCA\n",
    "pca = PCA(n_components = 5)\n",
    "X_train = pca.fit_transform(X_train)\n",
    "X_test = pca.transform(X_test)"
   ]
  },
  {
   "cell_type": "markdown",
   "id": "07b3ab28",
   "metadata": {},
   "source": [
    "## Training LinearRegression Model"
   ]
  },
  {
   "cell_type": "code",
   "execution_count": 16,
   "id": "7aa377ca",
   "metadata": {},
   "outputs": [
    {
     "data": {
      "text/plain": [
       "LinearRegression()"
      ]
     },
     "execution_count": 16,
     "metadata": {},
     "output_type": "execute_result"
    }
   ],
   "source": [
    "from sklearn.linear_model import LinearRegression\n",
    "regressor = LinearRegression()\n",
    "regressor.fit(X_train, y_train)"
   ]
  },
  {
   "cell_type": "code",
   "execution_count": 17,
   "id": "fcb358d7",
   "metadata": {},
   "outputs": [
    {
     "data": {
      "text/plain": [
       "array([5.79611743, 5.38025733, 5.47753294, 6.24055707, 5.35243112,\n",
       "       6.41084901, 5.4484392 , 5.21601017, 5.48323904, 6.08461458,\n",
       "       4.99034021, 5.08115019, 5.40712503, 5.41139006, 5.83680697,\n",
       "       5.93575059, 5.25063029, 5.49203685, 5.68899228, 5.50529667,\n",
       "       5.7999758 , 6.08390013, 5.63992665, 5.31815478, 5.15082063,\n",
       "       5.42121474, 5.00498644, 5.53022759, 4.87741052, 5.10700567,\n",
       "       6.17434514, 5.46303475, 6.40480797, 6.58741057, 5.66119195,\n",
       "       6.57511572, 5.3914344 , 5.61776587, 5.13580156, 5.45743366,\n",
       "       5.49054559, 5.32541088, 5.12621401, 5.47449261, 5.670854  ,\n",
       "       6.34111335, 5.30800706, 5.51787935, 6.61098526, 6.02036264,\n",
       "       5.62428995, 5.74426683, 6.41904152, 5.51217638, 5.07224573,\n",
       "       5.73217715, 4.97050983, 5.06593703, 5.6215751 , 5.31075025,\n",
       "       5.46849923, 5.7402899 , 5.20819626, 5.07314328, 5.75295313,\n",
       "       5.07314328, 6.20278039, 6.04436844, 5.40966745, 6.5362109 ,\n",
       "       5.48423441, 6.08606702, 4.97784406, 6.27098488, 6.25381596,\n",
       "       5.81635677, 5.4800125 , 4.96245457, 5.19352439, 6.38826416,\n",
       "       5.46590051, 5.16513126, 6.19408009, 6.42330792, 5.97754694,\n",
       "       5.31151204, 6.3210459 , 5.18724013, 5.82633253, 6.24464182,\n",
       "       5.07242026, 6.30002117, 5.3179086 , 5.39691176, 4.82673313,\n",
       "       5.3563549 , 5.14033208, 5.77703574, 5.27948969, 6.36458988,\n",
       "       6.01265553, 5.6470731 , 6.09524626, 6.21768313, 4.9084552 ,\n",
       "       5.42354199, 5.47400287, 5.34562026, 6.5720949 , 5.73345068,\n",
       "       5.71733983, 6.20629496, 6.34111335, 5.407793  , 5.1553554 ,\n",
       "       5.9592518 , 5.16690592, 5.54893539, 5.29158531, 6.16919191,\n",
       "       5.80330488, 6.44571762, 6.34354667, 6.22520921, 5.59271079,\n",
       "       6.0635482 , 5.29622252, 5.81072936, 6.30859958, 5.6754562 ,\n",
       "       5.04921245, 5.13917736, 5.25523486, 4.9999257 , 5.64652331,\n",
       "       6.3450676 , 5.72146725, 6.42440407, 5.22592909, 6.43226096,\n",
       "       6.29563976, 6.19408009, 5.55630208, 5.5463304 , 5.34289757,\n",
       "       5.22296667, 5.75998794, 4.77658614, 5.05963286, 5.94216986,\n",
       "       5.14033208, 5.22869119, 5.66508879, 6.12571337, 6.39454966,\n",
       "       5.0900092 , 5.92627187, 5.7892745 , 5.21977022, 6.10884102,\n",
       "       5.5887984 , 5.41179264, 6.27812075, 5.6378771 , 5.46128183,\n",
       "       5.45438676, 5.0936141 , 6.61098526, 5.28343615, 5.12786311,\n",
       "       6.5455527 , 5.39493342, 5.51199101, 5.97921571, 5.65656329,\n",
       "       5.82760928, 6.56385064, 5.14735141, 5.27634357, 6.17818327,\n",
       "       5.14336762, 5.89517135, 5.06955409, 5.1827062 , 5.19341631,\n",
       "       5.40680595, 5.50218322, 5.01359857, 5.17089231, 5.44723842,\n",
       "       5.00804243, 5.40993047, 5.19344135, 6.15801146, 5.26626495,\n",
       "       6.52597127, 5.77720496, 4.85321577, 5.80165302, 5.32499643,\n",
       "       5.70423298, 5.32202953, 5.21922827, 5.89773425, 5.29848736,\n",
       "       6.32303342, 5.45271145, 6.0155331 , 5.0638828 , 5.42945383,\n",
       "       5.17545585, 5.55377617, 5.70392279, 5.14225891, 6.60404427,\n",
       "       6.24520703, 5.86510043, 5.45800759, 6.26948672, 5.21285606,\n",
       "       5.21242843, 5.60652527, 5.40665824, 5.75154314, 5.07477373,\n",
       "       5.16631483, 5.49286762, 6.01314958, 6.03868503, 5.18691437,\n",
       "       5.21638309, 6.31798897, 5.50884017, 6.3114377 , 5.47753294,\n",
       "       5.08086952, 5.02308683, 6.26536904, 5.51528355, 6.68397652,\n",
       "       6.13007955, 5.21242843, 5.23020622, 5.20999985, 6.12428628,\n",
       "       5.09580213, 5.28957416, 5.42289318, 5.26787978, 5.38735484,\n",
       "       5.4830779 , 6.7367385 , 5.70217891, 5.31075025, 6.3478648 ,\n",
       "       5.13370127, 5.25003335, 6.3061378 , 5.35217224, 5.49367275,\n",
       "       5.07912562, 5.01417253, 7.26096584, 5.41957599, 5.47521947,\n",
       "       6.70447575, 5.20162381, 5.88486321, 6.71792137, 5.61938653,\n",
       "       5.24363935, 5.46602186, 5.45800759, 5.34104545, 6.27812187,\n",
       "       6.07241369, 5.46401578, 6.20317273, 5.42182135, 6.2305298 ,\n",
       "       6.11402564, 6.60029335, 6.26237913, 5.29848736, 4.73333868,\n",
       "       5.68230295, 5.97921571, 5.84595731, 5.76573988, 5.27021989,\n",
       "       5.20828911, 5.07372969, 5.14487186, 4.99673496, 5.92757992,\n",
       "       6.36103439, 5.15931783, 5.04798591, 5.59829972, 5.91002334,\n",
       "       4.99221789, 5.26754566, 5.07912562, 6.34211749, 6.7367385 ,\n",
       "       5.6583151 , 5.64989736, 6.26487894, 6.41764734, 5.06433524,\n",
       "       5.68174067, 5.28842318, 6.09770691, 5.35050441, 5.77572121,\n",
       "       5.14735141, 5.87107715, 5.49506821, 6.05665974, 5.09957931])"
      ]
     },
     "execution_count": 17,
     "metadata": {},
     "output_type": "execute_result"
    }
   ],
   "source": [
    "y_pred = regressor.predict(X_test)\n",
    "y_pred"
   ]
  },
  {
   "cell_type": "markdown",
   "id": "7317717a",
   "metadata": {},
   "source": [
    "## Evaluating performance"
   ]
  },
  {
   "cell_type": "code",
   "execution_count": 18,
   "id": "8edf5559",
   "metadata": {},
   "outputs": [
    {
     "name": "stdout",
     "output_type": "stream",
     "text": [
      "0.3369521464251424\n"
     ]
    }
   ],
   "source": [
    "from sklearn.metrics import r2_score\n",
    "print(r2_score(y_test, regressor.predict(X_test)))"
   ]
  },
  {
   "cell_type": "code",
   "execution_count": null,
   "id": "5b1c4356",
   "metadata": {},
   "outputs": [],
   "source": []
  },
  {
   "cell_type": "markdown",
   "id": "be67701b",
   "metadata": {},
   "source": [
    "## Cross Validation"
   ]
  },
  {
   "cell_type": "code",
   "execution_count": 19,
   "id": "51e7b2e1",
   "metadata": {},
   "outputs": [
    {
     "data": {
      "text/plain": [
       "array([0.13200871, 0.31858135, 0.34955348, 0.369145  , 0.2809196 ])"
      ]
     },
     "execution_count": 19,
     "metadata": {},
     "output_type": "execute_result"
    }
   ],
   "source": [
    "from sklearn.model_selection import cross_val_score\n",
    "cross_val_score(regressor,X,y,scoring = 'r2',cv = 5)"
   ]
  }
 ],
 "metadata": {
  "kernelspec": {
   "display_name": "Python 3 (ipykernel)",
   "language": "python",
   "name": "python3"
  },
  "language_info": {
   "codemirror_mode": {
    "name": "ipython",
    "version": 3
   },
   "file_extension": ".py",
   "mimetype": "text/x-python",
   "name": "python",
   "nbconvert_exporter": "python",
   "pygments_lexer": "ipython3",
   "version": "3.9.13"
  }
 },
 "nbformat": 4,
 "nbformat_minor": 5
}
